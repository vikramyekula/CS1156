{
 "cells": [
  {
   "cell_type": "code",
   "execution_count": 1,
   "metadata": {
    "collapsed": true
   },
   "outputs": [],
   "source": [
    "import numpy as np\n",
    "from numpy.linalg import inv\n",
    "import matplotlib.pyplot as plt\n",
    "import time\n",
    "import seaborn as sns\n",
    "%matplotlib inline"
   ]
  },
  {
   "cell_type": "markdown",
   "metadata": {},
   "source": [
    "# 1, 2. Hoefding Inequality"
   ]
  },
  {
   "cell_type": "code",
   "execution_count": 2,
   "metadata": {},
   "outputs": [],
   "source": [
    "def coin_toss(num_of_tosses=10, num_of_coins=1000):\n",
    "    toss = ['H', 'T']\n",
    "    result = []\n",
    "    #[result.append([toss[j] for j in np.random.randint(2, size=num_of_tosses)])]\n",
    "    for i in range(num_of_coins):\n",
    "        result.append([toss[j] for j in np.random.randint(2, size=num_of_tosses)])\n",
    "    return np.array(result)"
   ]
  },
  {
   "cell_type": "code",
   "execution_count": 3,
   "metadata": {},
   "outputs": [],
   "source": [
    "def frequency_of_heads(result, num_of_tosses=10):\n",
    "    v_one = len(np.where(result[0] == 'H')[0]) / num_of_tosses\n",
    "    v_rand = len(np.where(result[np.random.randint(len(result))] == 'H')[0]) / num_of_tosses\n",
    "    freq_head = []\n",
    "    [freq_head.append(len(np.where(result[i] == 'H')[0])) for i in range(len(result))]\n",
    "    v_min = np.min(np.array(freq_head)) / num_of_tosses\n",
    "    return [v_one, v_rand, v_min]"
   ]
  },
  {
   "cell_type": "code",
   "execution_count": 4,
   "metadata": {
    "collapsed": true
   },
   "outputs": [],
   "source": [
    "def experiment_12(trails=100000, num_of_tosses=10, num_of_coins=1000):\n",
    "    trails_result = []\n",
    "    [trails_result.append(frequency_of_heads(coin_toss(num_of_tosses, num_of_coins))) for i in range(trails)]\n",
    "    return np.array(trails_result)"
   ]
  },
  {
   "cell_type": "code",
   "execution_count": 5,
   "metadata": {},
   "outputs": [],
   "source": [
    "start_time = time.time()\n",
    "num_trails = 100000\n",
    "trails = experiment_12(num_trails, 10, 1000)\n",
    "end_time = time.time()\n",
    "means = np.mean(trails, axis=0)\n"
   ]
  },
  {
   "cell_type": "code",
   "execution_count": 6,
   "metadata": {},
   "outputs": [
    {
     "name": "stdout",
     "output_type": "stream",
     "text": [
      "Time taken for 100000 trails is 1346.641705751419\n",
      "Average Fraction of Heads for first coin = 0.499783\n",
      "Average Fraction of Heads for random coin = 0.4994979999999959\n",
      "Average Fraction of Heads for the coin with minimum heads% = 0.03758799999997677\n",
      "1. Difference values for E_in - [ 0.037588  0.027588  0.062412  0.462412  0.632412]\n",
      "1. Answer for E_in is b\n"
     ]
    }
   ],
   "source": [
    "print('Time taken for {} trails is {}'.format(num_trails, (end_time - start_time)))\n",
    "print('Average Fraction of Heads for first coin = {}'.format(means[0]))\n",
    "print('Average Fraction of Heads for random coin = {}'.format(means[1]))\n",
    "print('Average Fraction of Heads for the coin with minimum heads% = {}'.format(means[2]))\n",
    "answer_choices = [0, 0.01, 0.1, 0.5, 0.67]\n",
    "answers = ['a', 'b', 'c', 'd', 'e']\n",
    "print('1. Difference values for E_in - {}'.format(np.absolute(np.array(answer_choices) - means[2])))\n",
    "print('1. Answer for E_in is {}'.format(answers[np.argmin(np.absolute(np.array(answer_choices) - means[2]))]))\n"
   ]
  },
  {
   "cell_type": "code",
   "execution_count": 7,
   "metadata": {
    "scrolled": true
   },
   "outputs": [
    {
     "data": {
      "text/plain": [
       "(array([    92.,    971.,  16342.,      0.,  20308.,  45101.,  11752.,\n",
       "             0.,   4321.,   1113.]),\n",
       " array([ 0. ,  0.1,  0.2,  0.3,  0.4,  0.5,  0.6,  0.7,  0.8,  0.9,  1. ]),\n",
       " <a list of 10 Patch objects>)"
      ]
     },
     "execution_count": 7,
     "metadata": {},
     "output_type": "execute_result"
    },
    {
     "data": {
      "image/png": "[encoded data removed]",
      "text/plain": [
       "<matplotlib.figure.Figure at 0x25fb17c3208>"
      ]
     },
     "metadata": {},
     "output_type": "display_data"
    }
   ],
   "source": [
    "#sns.distplot(trails[:, 0])\n",
    "plt.hist(trails[:, 0])\n",
    "#for i in range(10+1):\n",
    "#    print('For value {}, # of trails {}'.format(i, len(np.where(trails[:, 2]*10 == i)[0])))"
   ]
  },
  {
   "cell_type": "code",
   "execution_count": 8,
   "metadata": {},
   "outputs": [
    {
     "data": {
      "text/plain": [
       "(array([   121.,    956.,  16104.,      0.,  20694.,  45007.,  11706.,\n",
       "             0.,   4374.,   1038.]),\n",
       " array([ 0. ,  0.1,  0.2,  0.3,  0.4,  0.5,  0.6,  0.7,  0.8,  0.9,  1. ]),\n",
       " <a list of 10 Patch objects>)"
      ]
     },
     "execution_count": 8,
     "metadata": {},
     "output_type": "execute_result"
    },
    {
     "data": {
      "image/png": "[encoded data removed]",
      "text/plain": [
       "<matplotlib.figure.Figure at 0x25fb36eb9b0>"
      ]
     },
     "metadata": {},
     "output_type": "display_data"
    }
   ],
   "source": [
    "plt.hist(trails[:, 1])"
   ]
  },
  {
   "cell_type": "code",
   "execution_count": 9,
   "metadata": {},
   "outputs": [
    {
     "data": {
      "text/plain": [
       "(array([  6.24130000e+04,   0.00000000e+00,   0.00000000e+00,\n",
       "          0.00000000e+00,   0.00000000e+00,   3.75860000e+04,\n",
       "          0.00000000e+00,   0.00000000e+00,   0.00000000e+00,\n",
       "          1.00000000e+00]),\n",
       " array([ 0.  ,  0.02,  0.04,  0.06,  0.08,  0.1 ,  0.12,  0.14,  0.16,\n",
       "         0.18,  0.2 ]),\n",
       " <a list of 10 Patch objects>)"
      ]
     },
     "execution_count": 9,
     "metadata": {},
     "output_type": "execute_result"
    },
    {
     "data": {
      "image/png": "[encoded data removed]",
      "text/plain": [
       "<matplotlib.figure.Figure at 0x25fb1c446a0>"
      ]
     },
     "metadata": {},
     "output_type": "display_data"
    }
   ],
   "source": [
    "plt.hist(trails[:, 2])"
   ]
  },
  {
   "cell_type": "markdown",
   "metadata": {},
   "source": [
    "# 5, 6, 7 Linear Regression"
   ]
  },
  {
   "cell_type": "code",
   "execution_count": 10,
   "metadata": {
    "collapsed": true
   },
   "outputs": [],
   "source": [
    "def target_line():\n",
    "    x1, x2 = np.random.uniform(-1., 1., size=(2,2))\n",
    "    slope = (x2[1] - x1[1]) / (x2[0] - x1[0])\n",
    "    intercept = x2[1] - slope * x2[0]\n",
    "    return np.array([intercept, slope, -1])"
   ]
  },
  {
   "cell_type": "code",
   "execution_count": 11,
   "metadata": {
    "collapsed": true
   },
   "outputs": [],
   "source": [
    "def generate_data(N):\n",
    "    data = np.random.uniform(-1., 1., size=(N, 2))\n",
    "    data_set = np.column_stack((np.ones(N), data))\n",
    "    return data_set"
   ]
  },
  {
   "cell_type": "code",
   "execution_count": 12,
   "metadata": {
    "collapsed": true
   },
   "outputs": [],
   "source": [
    "def prediction(data, W):\n",
    "    labels = np.sign(data.dot(W))\n",
    "    return labels"
   ]
  },
  {
   "cell_type": "code",
   "execution_count": 13,
   "metadata": {
    "collapsed": true
   },
   "outputs": [],
   "source": [
    "def perceptron(data, correct_labels, W):\n",
    "    counter = 0\n",
    "    while True:\n",
    "        trained_labels = prediction(data, W)\n",
    "        miss_indices = np.where(trained_labels != correct_labels)\n",
    "        if (len(miss_indices[0]) == 0):\n",
    "            break\n",
    "        index = np.random.choice(miss_indices[0])\n",
    "        W = W + correct_labels[index] * data[index]\n",
    "        counter += 1\n",
    "    return (W, counter)"
   ]
  },
  {
   "cell_type": "code",
   "execution_count": 14,
   "metadata": {
    "collapsed": true
   },
   "outputs": [],
   "source": [
    "def linear_regression(training_set, correct_labels):\n",
    "    # w = X.T X inverse X.T y\n",
    "    W = np.dot(np.dot(inv(np.dot(training_set.transpose(), training_set)), training_set.transpose()), correct_labels)\n",
    "    return W"
   ]
  },
  {
   "cell_type": "code",
   "execution_count": 15,
   "metadata": {
    "collapsed": true
   },
   "outputs": [],
   "source": [
    "def experiment_567(trails = 1000, N_in = 100, N_out = 1000, N_pla=10):\n",
    "    iterations = []\n",
    "    iter_prob_ein = []\n",
    "    iter_prob_eout = []\n",
    "    for t in range(trails):\n",
    "        f = target_line()\n",
    "        training_set = generate_data(N_in)\n",
    "        correct_labels = prediction(training_set, f)\n",
    "        # Linear Regression and training set error E_in\n",
    "        W_lr = linear_regression(training_set, correct_labels)\n",
    "        predicted_labels = prediction(training_set, W_lr)\n",
    "        g_not_f = (correct_labels != predicted_labels)\n",
    "        p = len([i for i in g_not_f if i == True]) / N_in\n",
    "        iter_prob_ein.append(p)\n",
    "        \n",
    "        # Test set error rate - E_out\n",
    "        test_set = generate_data(N_out)\n",
    "        true_labels = prediction(test_set, f)\n",
    "        predicted_labels = prediction(test_set, W_lr)\n",
    "        \n",
    "        g_not_f = (true_labels != predicted_labels)\n",
    "        p = len([i for i in g_not_f if i == True]) / N_out\n",
    "        iter_prob_eout.append(p)\n",
    "        \n",
    "        # PLA convergence for the weights from linear regression\n",
    "        training_set = generate_data(N_pla)\n",
    "        correct_labels = prediction(training_set, f)\n",
    "        W_pla, counter = perceptron(training_set, correct_labels, W_lr)\n",
    "        iterations.append(counter)\n",
    "        \n",
    "        \n",
    "    return np.mean(iter_prob_ein), np.mean(iter_prob_eout), np.mean(iterations)"
   ]
  },
  {
   "cell_type": "code",
   "execution_count": 16,
   "metadata": {},
   "outputs": [],
   "source": [
    "# run the experiment for LR\n",
    "e_in, e_out, pla_iterations = experiment_567()\n"
   ]
  },
  {
   "cell_type": "code",
   "execution_count": 17,
   "metadata": {},
   "outputs": [
    {
     "name": "stdout",
     "output_type": "stream",
     "text": [
      "E-in is 0.038810000000000004. E-out is 0.048039000000000005\n",
      "5. Difference values for E_in - [ 0.03881  0.03781  0.02881  0.06119  0.46119]\n",
      "5. Answer for E_in is c\n",
      "6. Difference values for E_out - [ 0.048039  0.047039  0.038039  0.051961  0.451961]\n",
      "6. Answer for E_out is c\n",
      "7. Difference values for PLA Iterations - [  3.66800000e+00   1.03320000e+01   2.95332000e+02   4.99533200e+03\n",
      "   9.99533200e+03]\n",
      "7. Answer for PLA Iterations is a\n"
     ]
    }
   ],
   "source": [
    "print('E-in is {}. E-out is {}'.format(e_in, e_out))\n",
    "answer_choices = [0, 0.001, 0.01, 0.1, 0.5]\n",
    "answers = ['a', 'b', 'c', 'd', 'e']\n",
    "print('5. Difference values for E_in - {}'.format(np.absolute(np.array(answer_choices) - e_in)))\n",
    "print('5. Answer for E_in is {}'.format(answers[np.argmin(np.absolute(np.array(answer_choices) - e_in))]))\n",
    "print('6. Difference values for E_out - {}'.format(np.absolute(np.array(answer_choices) - e_out)))\n",
    "print('6. Answer for E_out is {}'.format(answers[np.argmin(np.absolute(np.array(answer_choices) - e_out))]))\n",
    "answers_7 = [1, 15, 300, 5000, 10000]\n",
    "print('7. Difference values for PLA Iterations - {}'.format(np.absolute(np.array(answers_7) - pla_iterations)))\n",
    "print('7. Answer for PLA Iterations is {}'.format(answers[np.argmin(np.absolute(np.array(answers_7) - pla_iterations))]))"
   ]
  },
  {
   "cell_type": "markdown",
   "metadata": {},
   "source": [
    "# 8, 9, 10 Nonlinear Transformation"
   ]
  },
  {
   "cell_type": "code",
   "execution_count": 18,
   "metadata": {},
   "outputs": [],
   "source": [
    "def simulate_noise(data, percentage):\n",
    "    N = len(data)\n",
    "    N_noise = int(N * percentage)\n",
    "    random_indices = np.random.randint(N, size=N_noise)\n",
    "    #print('Random Indices: {}'.format(random_indices))\n",
    "    for i in range(len(random_indices)):\n",
    "        if data[random_indices[i]] == 1:\n",
    "            data[random_indices[i]] = -1\n",
    "        else: \n",
    "            data[random_indices[i]] = 1\n",
    "    return data"
   ]
  },
  {
   "cell_type": "code",
   "execution_count": 19,
   "metadata": {},
   "outputs": [],
   "source": [
    "def prediction_lr(data):\n",
    "    labels = np.sign(np.add(-0.6, np.sum(np.square(data), axis=1)))\n",
    "    return labels"
   ]
  },
  {
   "cell_type": "code",
   "execution_count": 20,
   "metadata": {
    "collapsed": true
   },
   "outputs": [],
   "source": [
    "def experiment_8910(trails = 1000, N_in = 1000, N_out = 1000, N_pla=10):\n",
    "    iterations = []\n",
    "    iter_prob_ein = []\n",
    "    iter_w_t = []\n",
    "    iter_prob_eout = []\n",
    "    for t in range(trails):\n",
    "        f = target_line()\n",
    "        training_set = generate_data(N_in)\n",
    "        correct_labels = prediction_lr(training_set[:, 1:])\n",
    "        correct_labels = simulate_noise(correct_labels, 10/100)\n",
    "        # Linear Regression and training set error E_in\n",
    "        W_lr = linear_regression(training_set, correct_labels)\n",
    "        predicted_labels = prediction(training_set, W_lr)\n",
    "        g_not_f = (correct_labels != predicted_labels)\n",
    "        p = len([i for i in g_not_f if i == True]) / N_in\n",
    "        iter_prob_ein.append(p)\n",
    "        \n",
    "        # Non-linear transformation\n",
    "        # (1; x1; x2; x1*x2; x1^2; x2^2)\n",
    "        transformed_training_set = np.column_stack((training_set, \n",
    "                                                    np.multiply(training_set[:, 1], training_set[:, 2]),\n",
    "                                                   np.square(training_set[:, 1]),\n",
    "                                                   np.square(training_set[:, 2])))\n",
    "        W_tlr = linear_regression(transformed_training_set, correct_labels)\n",
    "        iter_w_t.append(W_tlr)\n",
    "        \n",
    "        # Test set error rate - E_out\n",
    "        test_set = generate_data(N_out)\n",
    "        transformed_test_set = np.column_stack((test_set, \n",
    "                                                    np.multiply(test_set[:, 1], test_set[:, 2]),\n",
    "                                                   np.square(test_set[:, 1]),\n",
    "                                                   np.square(test_set[:, 2])))\n",
    "        true_labels = prediction_lr(test_set[:, 1:])\n",
    "        true_labels = simulate_noise(true_labels, 10/100)\n",
    "        predicted_labels = prediction(transformed_test_set, W_tlr)\n",
    "        \n",
    "        g_not_f = (true_labels != predicted_labels)\n",
    "        p = len([i for i in g_not_f if i == True]) / N_out\n",
    "        iter_prob_eout.append(p)\n",
    "        \n",
    "        \n",
    "    return np.mean(iter_prob_ein), np.mean(iter_w_t, axis=0), np.mean(iter_prob_eout)"
   ]
  },
  {
   "cell_type": "code",
   "execution_count": 21,
   "metadata": {},
   "outputs": [],
   "source": [
    "e_in, w_t, e_out = experiment_8910(1000, 1000, 1000, 10)\n"
   ]
  },
  {
   "cell_type": "code",
   "execution_count": 22,
   "metadata": {},
   "outputs": [
    {
     "name": "stdout",
     "output_type": "stream",
     "text": [
      "e_in:0.506177\n",
      "w_t:[-1.0149777  -0.00037868 -0.00224469  0.00151316  1.59109194  1.5951449 ]\n",
      "e_out:0.117231\n",
      "8. Difference values for E_in - [ 0.506177  0.406177  0.206177  0.006177  0.293823]\n",
      "8. Answer for E_in is d\n",
      "9. W vector for transformed X - [-1.0149777  -0.00037868 -0.00224469  0.00151316  1.59109194  1.5951449 ]\n",
      "10. Difference values for e_out - [ 0.117231  0.017231  0.182769  0.382769  0.682769]\n",
      "10. Answer for e_out is b\n"
     ]
    }
   ],
   "source": [
    "np.set_printoptions(suppress=True)\n",
    "print('e_in:{}\\nw_t:{}\\ne_out:{}'.format(e_in, w_t, e_out))\n",
    "\n",
    "answers = ['a', 'b', 'c', 'd', 'e']\n",
    "answer_8 = [0, 0.1, 0.3, 0.5, 0.8]\n",
    "print('8. Difference values for E_in - {}'.format(np.absolute(np.array(answer_8) - e_in)))\n",
    "print('8. Answer for E_in is {}'.format(answers[np.argmin(np.absolute(np.array(answer_8) - e_in))]))\n",
    "answers_9 = [\n",
    "    [-1, -0.05, 0.08, 0.13, 1.50, 1.50],\n",
    "    [-1, -0.05, 0.08, 0.13, 1.50, 15.0],\n",
    "    [-1, -0.05, 0.08, 0.13, 15.0, 1.50],\n",
    "    [-1, -1.50, 0.08, 0.13, 0.05, 0.05],\n",
    "    [-1, -0.05, 0.08, 1.50, 0.15, 0.15]\n",
    "]\n",
    "print('9. W vector for transformed X - {}'.format(w_t))\n",
    "#print('9. Answer for E_out is {}'.format(answers[np.argmin(np.absolute(np.array(answers_9) - e_out))]))\n",
    "answer_10 = [0, 0.1, 0.3, 0.5, 0.8]\n",
    "print('10. Difference values for e_out - {}'.format(np.absolute(np.array(answer_10) - e_out)))\n",
    "print('10. Answer for e_out is {}'.format(answers[np.argmin(np.absolute(np.array(answer_10) - e_out))]))"
   ]
  },
  {
   "cell_type": "code",
   "execution_count": null,
   "metadata": {
    "collapsed": true
   },
   "outputs": [],
   "source": []
  }
 ],
 "metadata": {
  "kernelspec": {
   "display_name": "Python [conda root]",
   "language": "python",
   "name": "conda-root-py"
  },
  "language_info": {
   "codemirror_mode": {
    "name": "ipython",
    "version": 3
   },
   "file_extension": ".py",
   "mimetype": "text/x-python",
   "name": "python",
   "nbconvert_exporter": "python",
   "pygments_lexer": "ipython3",
   "version": "3.6.1"
  }
 },
 "nbformat": 4,
 "nbformat_minor": 2
}
