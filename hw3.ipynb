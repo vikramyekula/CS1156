{
 "cells": [
  {
   "cell_type": "code",
   "execution_count": 6,
   "metadata": {
    "collapsed": true
   },
   "outputs": [],
   "source": [
    "import math as math\n",
    "import numpy as np"
   ]
  },
  {
   "cell_type": "code",
   "execution_count": 4,
   "metadata": {
    "collapsed": true
   },
   "outputs": [],
   "source": [
    "def hi_prob_bound(epsilon = 0.05, M = 1, max_prob = 0.03):\n",
    "    N = math.log(2 * M / max_prob)/(2 * math.pow(epsilon, 2))\n",
    "    return N"
   ]
  },
  {
   "cell_type": "code",
   "execution_count": 13,
   "metadata": {},
   "outputs": [
    {
     "name": "stdout",
     "output_type": "stream",
     "text": [
      "1. Difference values for N(839.9410155759853) - [  339.94101558   160.05898442   660.05898442  1160.05898442  1161.05898442]\n",
      "1. Answer for N is \"b\"\n",
      "2. Difference values for N(1300.4580341747944) - [ 800.45803417  300.45803417  199.54196583  699.54196583  700.54196583]\n",
      "2. Answer for N is \"c\"\n",
      "2. Difference values for N(1760.9750527736032) - [ 1260.97505277   760.97505277   260.97505277   239.02494723   240.02494723]\n",
      "2. Answer for N is \"d\"\n"
     ]
    }
   ],
   "source": [
    "answers = ['a', 'b', 'c', 'd', 'e']\n",
    "answers_choices_1 = [500, 1000, 1500, 2000, 2001]\n",
    "N = hi_prob_bound(0.05, 1, 0.03)\n",
    "print('1. Difference values for N({}) - {}'.format(N, np.absolute(np.array(answers_choices_1) - N)))\n",
    "print('1. Answer for N is \"{}\"'.format(answers[np.argmin(np.absolute(np.array(answers_choices_1) - N))]))\n",
    "N = hi_prob_bound(0.05, 10, 0.03)\n",
    "print('2. Difference values for N({}) - {}'.format(N, np.absolute(np.array(answers_choices_1) - N)))\n",
    "print('2. Answer for N is \"{}\"'.format(answers[np.argmin(np.absolute(np.array(answers_choices_1) - N))]))\n",
    "N = hi_prob_bound(0.05, 100, 0.03)\n",
    "print('2. Difference values for N({}) - {}'.format(N, np.absolute(np.array(answers_choices_1) - N)))\n",
    "print('2. Answer for N is \"{}\"'.format(answers[np.argmin(np.absolute(np.array(answers_choices_1) - N))]))\n"
   ]
  },
  {
   "cell_type": "code",
   "execution_count": null,
   "metadata": {
    "collapsed": true
   },
   "outputs": [],
   "source": []
  }
 ],
 "metadata": {
  "kernelspec": {
   "display_name": "Python [conda root]",
   "language": "python",
   "name": "conda-root-py"
  },
  "language_info": {
   "codemirror_mode": {
    "name": "ipython",
    "version": 3
   },
   "file_extension": ".py",
   "mimetype": "text/x-python",
   "name": "python",
   "nbconvert_exporter": "python",
   "pygments_lexer": "ipython3",
   "version": "3.6.1"
  }
 },
 "nbformat": 4,
 "nbformat_minor": 2
}
